{
 "cells": [
  {
   "cell_type": "markdown",
   "metadata": {},
   "source": [
    "## Assignment 1\n",
    "### (a+b)2"
   ]
  },
  {
   "cell_type": "code",
   "execution_count": 11,
   "metadata": {},
   "outputs": [
    {
     "name": "stdout",
     "output_type": "stream",
     "text": [
      "121\n"
     ]
    }
   ],
   "source": [
    "import tensorflow as tf\n",
    "a=tf.constant(5)\n",
    "b=tf.constant(6)\n",
    "c=tf.multiply(a,a)\n",
    "d=tf.multiply(b,b)\n",
    "e=tf.multiply(2,a)\n",
    "f=tf.multiply(e,b)\n",
    "g=tf.add(c,d)\n",
    "h=tf.add(g,f)\n",
    "\n",
    "with tf.Session() as sess:\n",
    "    writer = tf.summary.FileWriter(\"/tmp/tboard/squareab\", sess.graph)\n",
    "    print(sess.run(h))\n",
    "    writer.close()"
   ]
  },
  {
   "cell_type": "markdown",
   "metadata": {},
   "source": [
    "### (a+b+c)2 "
   ]
  },
  {
   "cell_type": "code",
   "execution_count": 18,
   "metadata": {},
   "outputs": [
    {
     "name": "stdout",
     "output_type": "stream",
     "text": [
      "163\n"
     ]
    }
   ],
   "source": [
    "import tensorflow as tf\n",
    "a=tf.constant(5)\n",
    "b=tf.constant(6)\n",
    "c=tf.constant(8)\n",
    "d=tf.multiply(a,a)\n",
    "e=tf.multiply(b,b)\n",
    "f=tf.multiply(c,c)\n",
    "g=tf.multiply(2,a)\n",
    "h=tf.multiply(g,b)\n",
    "i=tf.multiply(2,b)\n",
    "j=tf.multiply(i,c)\n",
    "k=tf.multiply(2,c)\n",
    "l=tf.multiply(k,a)\n",
    "m=tf.add(d,e)\n",
    "n=tf.add(m,f)\n",
    "o=tf.add(n,g)\n",
    "p=tf.add(o,i)\n",
    "q=tf.add(p,k)\n",
    "\n",
    "with tf.Session() as sess:\n",
    "    writer = tf.summary.FileWriter(\"/tmp/tboard/squareabc\", sess.graph)\n",
    "    print(sess.run(q))\n",
    "    writer.close()"
   ]
  },
  {
   "cell_type": "code",
   "execution_count": null,
   "metadata": {
    "collapsed": true
   },
   "outputs": [],
   "source": []
  }
 ],
 "metadata": {
  "kernelspec": {
   "display_name": "Python 3",
   "language": "python",
   "name": "python3"
  },
  "language_info": {
   "codemirror_mode": {
    "name": "ipython",
    "version": 3
   },
   "file_extension": ".py",
   "mimetype": "text/x-python",
   "name": "python",
   "nbconvert_exporter": "python",
   "pygments_lexer": "ipython3",
   "version": "3.6.1"
  }
 },
 "nbformat": 4,
 "nbformat_minor": 2
}
