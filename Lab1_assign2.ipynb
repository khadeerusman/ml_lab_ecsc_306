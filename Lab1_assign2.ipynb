{
 "cells": [
  {
   "cell_type": "code",
   "execution_count": 52,
   "metadata": {},
   "outputs": [
    {
     "name": "stdout",
     "output_type": "stream",
     "text": [
      "[  6.30000019   7.19999981   8.5          9.69999981  15.        ]\n",
      "[  1.69000006  11.5         15.          14.19999981  16.        ]\n"
     ]
    }
   ],
   "source": [
    "##1\n",
    "import numpy as np\n",
    "import tensorflow as tf\n",
    "array1=np.asarray([6.3,7.2,8.5,9.7,15])\n",
    "array2=np.asarray([1.69,11.5,15,14.2,16])\n",
    "x = tf.constant(array1,dtype = tf.float32)\n",
    "y = tf.constant(array2,dtype = tf.float32)\n",
    "sess=tf.Session()\n",
    "print( sess.run(x))\n",
    "sess=tf.Session()\n",
    "print( sess.run(y))\n"
   ]
  },
  {
   "cell_type": "code",
   "execution_count": 5,
   "metadata": {},
   "outputs": [
    {
     "name": "stdout",
     "output_type": "stream",
     "text": [
      "Mean of x is 9.34\n",
      "Mean of y is 11.678\n"
     ]
    }
   ],
   "source": [
    "##2\n",
    "m1=tf.reduce_mean(x)\n",
    "with tf.Session() as sess:\n",
    "    output = sess.run(m1)\n",
    "    print(\"Mean of x is\",output)\n",
    "m2=tf.reduce_mean(y)\n",
    "with tf.Session() as sess:\n",
    "    output = sess.run(m2)\n",
    "    print(\"Mean of y is\",output)"
   ]
  },
  {
   "cell_type": "code",
   "execution_count": 6,
   "metadata": {},
   "outputs": [
    {
     "name": "stdout",
     "output_type": "stream",
     "text": [
      "[ 3.03999996  2.14000034  0.84000015 -0.35999966 -5.65999985]\n"
     ]
    }
   ],
   "source": [
    "##3\n",
    "sub=tf.subtract(m1,x)\n",
    "with tf.Session() as sess:\n",
    "    output = sess.run(sub)\n",
    "    print(output)"
   ]
  },
  {
   "cell_type": "code",
   "execution_count": 7,
   "metadata": {},
   "outputs": [
    {
     "name": "stdout",
     "output_type": "stream",
     "text": [
      "[  9.24160004   4.57960129   0.70560026   0.12959975  32.03559875]\n"
     ]
    }
   ],
   "source": [
    "sqr=tf.square(sub)\n",
    "with tf.Session() as sess:\n",
    "    output = sess.run(sqr)\n",
    "    print(output)"
   ]
  },
  {
   "cell_type": "code",
   "execution_count": 8,
   "metadata": {},
   "outputs": [
    {
     "name": "stdout",
     "output_type": "stream",
     "text": [
      "46.692\n"
     ]
    }
   ],
   "source": [
    "var=tf.reduce_sum(sqr)\n",
    "with tf.Session() as sess:\n",
    "    output = sess.run(var)\n",
    "    print(output)"
   ]
  },
  {
   "cell_type": "code",
   "execution_count": 11,
   "metadata": {},
   "outputs": [
    {
     "name": "stdout",
     "output_type": "stream",
     "text": [
      "Mean of x is  9.34\n",
      "Variance of  is  9.3384\n"
     ]
    }
   ],
   "source": [
    "##3 in simplified way.\n",
    "\n",
    "mean,var = tf.nn.moments(x, axes=[0])\n",
    "with tf.Session() as sess:\n",
    "    output = sess.run(mean)\n",
    "    output2=sess.run(var)\n",
    "    print(\"Mean of x is \",output)\n",
    "    print(\"Variance of  is \",output2)\n"
   ]
  },
  {
   "cell_type": "code",
   "execution_count": 12,
   "metadata": {},
   "outputs": [
    {
     "name": "stdout",
     "output_type": "stream",
     "text": [
      "[-3.03999996 -2.14000034 -0.84000015  0.35999966  5.65999985]\n"
     ]
    }
   ],
   "source": [
    "## 4\n",
    "xi=tf.subtract(x,m1)\n",
    "with tf.Session() as sess:\n",
    "    output = sess.run(xi)\n",
    "    print(output)"
   ]
  },
  {
   "cell_type": "code",
   "execution_count": 13,
   "metadata": {},
   "outputs": [
    {
     "name": "stdout",
     "output_type": "stream",
     "text": [
      "[-9.98799896 -0.1779995   3.3220005   2.52200031  4.3220005 ]\n"
     ]
    }
   ],
   "source": [
    "yi=tf.subtract(y,m2)\n",
    "with tf.Session() as sess:\n",
    "    output = sess.run(yi)\n",
    "    print(output)"
   ]
  },
  {
   "cell_type": "code",
   "execution_count": 14,
   "metadata": {},
   "outputs": [
    {
     "name": "stdout",
     "output_type": "stream",
     "text": [
      "[ 30.36351585   0.38091898  -2.79048085   0.90791923  24.46252251]\n"
     ]
    }
   ],
   "source": [
    "prod=tf.multiply(xi,yi)\n",
    "with tf.Session() as sess:\n",
    "    output = sess.run(prod)\n",
    "    print(output)"
   ]
  },
  {
   "cell_type": "code",
   "execution_count": 20,
   "metadata": {},
   "outputs": [
    {
     "name": "stdout",
     "output_type": "stream",
     "text": [
      "53.3244\n",
      "Covariance is 13.3311\n"
     ]
    }
   ],
   "source": [
    "num=tf.reduce_sum(prod)\n",
    "with tf.Session() as sess:\n",
    "    output = sess.run(num)\n",
    "    print(output)\n",
    "    \n",
    "den=len(array1)-1\n",
    "\n",
    "\n",
    "covar=tf.divide(num,den)\n",
    "with tf.Session() as sess:\n",
    "    output = sess.run(covar)\n",
    "    print(\"Covariance is\",output)"
   ]
  },
  {
   "cell_type": "code",
   "execution_count": 18,
   "metadata": {},
   "outputs": [
    {
     "name": "stdout",
     "output_type": "stream",
     "text": [
      "The value of m is  1.14205\n"
     ]
    }
   ],
   "source": [
    "## 5\n",
    "\n",
    "m=tf.divide(covar,var)\n",
    "with tf.Session() as sess:\n",
    "    output = sess.run(m)\n",
    "    print(\"The value of m is \",output)"
   ]
  },
  {
   "cell_type": "code",
   "execution_count": 19,
   "metadata": {},
   "outputs": [
    {
     "name": "stdout",
     "output_type": "stream",
     "text": [
      "The value of c is  1.01129\n"
     ]
    }
   ],
   "source": [
    "## 6\n",
    "\n",
    "h=tf.multiply(m,m1)\n",
    "c=tf.subtract(m2,h)\n",
    "with tf.Session() as sess:\n",
    "    output = sess.run(c)\n",
    "    print(\"The value of c is \",output)\n"
   ]
  },
  {
   "cell_type": "markdown",
   "metadata": {
    "collapsed": true
   },
   "source": [
    "# Part 2"
   ]
  },
  {
   "cell_type": "code",
   "execution_count": 57,
   "metadata": {
    "scrolled": true
   },
   "outputs": [
    {
     "name": "stdout",
     "output_type": "stream",
     "text": [
      "Epoch: 0045 cost= 40.110321045 W= 0.432156 b= -0.137853\n",
      "Epoch: 0090 cost= 13.166956902 W= 0.907739 b= -0.0907967\n",
      "Epoch: 0135 cost= 8.523145676 W= 1.10498 b= -0.0707209\n",
      "Epoch: 0180 cost= 7.721074581 W= 1.18676 b= -0.0618383\n",
      "Epoch: 0225 cost= 7.581805229 W= 1.22063 b= -0.0575997\n",
      "Epoch: 0270 cost= 7.557277679 W= 1.23462 b= -0.0552881\n",
      "Epoch: 0315 cost= 7.552778721 W= 1.24038 b= -0.0537765\n",
      "Epoch: 0360 cost= 7.551840305 W= 1.24271 b= -0.0525972\n",
      "Epoch: 0405 cost= 7.551567078 W= 1.24363 b= -0.0515562\n",
      "Epoch: 0450 cost= 7.551423073 W= 1.24395 b= -0.0505732\n",
      "Epoch: 0495 cost= 7.551315308 W= 1.24403 b= -0.0496146\n",
      "Epoch: 0540 cost= 7.551213264 W= 1.24402 b= -0.0486666\n",
      "Epoch: 0585 cost= 7.551115513 W= 1.24395 b= -0.0477236\n",
      "Epoch: 0630 cost= 7.551017761 W= 1.24388 b= -0.046783\n",
      "Epoch: 0675 cost= 7.550920963 W= 1.24379 b= -0.0458439\n",
      "Epoch: 0720 cost= 7.550824642 W= 1.2437 b= -0.0449061\n",
      "Epoch: 0765 cost= 7.550729275 W= 1.24361 b= -0.0439689\n",
      "Epoch: 0810 cost= 7.550633430 W= 1.24352 b= -0.0430327\n",
      "Epoch: 0855 cost= 7.550537109 W= 1.24343 b= -0.0420973\n",
      "Epoch: 0900 cost= 7.550442696 W= 1.24334 b= -0.0411629\n",
      "Epoch: 0945 cost= 7.550347805 W= 1.24325 b= -0.0402292\n",
      "Epoch: 0990 cost= 7.550253391 W= 1.24316 b= -0.0392962\n",
      "Optimization Finished!\n",
      "Training cost= 7.55023 W= 1.24314 b= -0.039089 \n",
      "\n"
     ]
    },
    {
     "data": {
      "image/png": "[encoded data removed]",
      "text/plain": [
       "<matplotlib.figure.Figure at 0x7f075ce53cc0>"
      ]
     },
     "metadata": {},
     "output_type": "display_data"
    }
   ],
   "source": [
    "n_samples = len(array1)\n",
    "X = tf.placeholder(\"float\")\n",
    "Y = tf.placeholder(\"float\")\n",
    "import numpy as np\n",
    "rng = np.random\n",
    "learning_rate = 0.0002\n",
    "training_epochs = 1000\n",
    "display_step = 45\n",
    "import matplotlib.pyplot as plt\n",
    "\n",
    "# Set model weights\n",
    "W = tf.Variable(rng.randn(), name=\"wt\")\n",
    "b = tf.Variable(rng.randn(), name=\"bias\")\n",
    "\n",
    "pred = tf.add(tf.multiply(X, W), b)\n",
    "\n",
    "\n",
    "# Mean squared error\n",
    "cost = tf.reduce_sum(tf.pow(pred-Y, 2))/(2*n_samples)\n",
    "# Gradient descent\n",
    "optimizer = tf.train.GradientDescentOptimizer(learning_rate).minimize(cost)\n",
    "\n",
    "# Initializing the variables\n",
    "init = tf.global_variables_initializer()\n",
    "\n",
    "# Launch the graph\n",
    "with tf.Session() as sess:\n",
    "    sess.run(init)\n",
    "\n",
    "    # Fit all training data\n",
    "    for epoch in range(training_epochs):\n",
    "        for (p, r) in zip(array1, array2):\n",
    "            sess.run(optimizer, feed_dict={X: p, Y: r})\n",
    "\n",
    "        # Display logs per epoch step\n",
    "        if (epoch+1) % display_step == 0:\n",
    "            c = sess.run(cost, feed_dict={X: array1, Y:array2})\n",
    "            print(\"Epoch:\", '%04d' % (epoch+1), \"cost=\", \"{:.9f}\".format(c), \\\n",
    "                \"W=\", sess.run(W), \"b=\", sess.run(b))\n",
    "\n",
    "    print(\"Optimization Finished!\")\n",
    "    training_cost = sess.run(cost, feed_dict={X: array1, Y: array2})\n",
    "    print(\"Training cost=\", training_cost, \"W=\", sess.run(W), \"b=\", sess.run(b), '\\n')\n",
    "\n",
    "    \n",
    "    plt.plot(array1, array2, 'ro', label='Original data')\n",
    "    plt.plot(array1, sess.run(W) * array1 + sess.run(b), label='Fitted line')\n",
    "    plt.legend()\n",
    "    plt.show()\n"
   ]
  },
  {
   "cell_type": "code",
   "execution_count": null,
   "metadata": {
    "collapsed": true
   },
   "outputs": [],
   "source": []
  }
 ],
 "metadata": {
  "kernelspec": {
   "display_name": "Python 3",
   "language": "python",
   "name": "python3"
  },
  "language_info": {
   "codemirror_mode": {
    "name": "ipython",
    "version": 3
   },
   "file_extension": ".py",
   "mimetype": "text/x-python",
   "name": "python",
   "nbconvert_exporter": "python",
   "pygments_lexer": "ipython3",
   "version": "3.6.1"
  }
 },
 "nbformat": 4,
 "nbformat_minor": 2
}
